{
 "cells": [
  {
   "cell_type": "code",
   "execution_count": null,
   "id": "4504eb96",
   "metadata": {},
   "outputs": [],
   "source": [
    "import torch\n",
    "import numpy as np\n",
    "from PIL import Image\n",
    "from groundingdino.util.inference import load_model, predict"
   ]
  },
  {
   "cell_type": "code",
   "execution_count": null,
   "id": "b5c01a7d",
   "metadata": {},
   "outputs": [],
   "source": [
    "# Paths\n",
    "config_path = \"GroundingDINO/groundingdino/config/GroundingDINO_SwinB_cfg.py\"\n",
    "checkpoint_path = \"weights/groundingdino_swinb_cogcoor.pth\"\n",
    "image_path = \"/Users/prudhvivuda/Documents/vaultlyai code/ai-labelling/blender motor + air fryer + microwave.jpg\"  # Replace with your file\n"
   ]
  },
  {
   "cell_type": "code",
   "execution_count": null,
   "id": "59555d1f",
   "metadata": {},
   "outputs": [],
   "source": [
    "# Load model (CPU)\n",
    "device = \"cpu\"\n",
    "model = load_model(config_path, checkpoint_path)\n",
    "model = model.to(device)\n",
    "\n",
    "# Load image\n",
    "image_pil = Image.open(image_path).convert(\"RGB\")\n",
    "image_np = np.array(image_pil)\n",
    "image_tensor = torch.tensor(image_np).permute(2, 0, 1).unsqueeze(0).float() / 255.0\n",
    "image_tensor = image_tensor.to(device)"
   ]
  },
  {
   "cell_type": "code",
   "execution_count": null,
   "id": "495027a4",
   "metadata": {},
   "outputs": [
    {
     "name": "stdout",
     "output_type": "stream",
     "text": [
      "final text_encoder_type: bert-base-uncased\n"
     ]
    },
    {
     "name": "stderr",
     "output_type": "stream",
     "text": [
      "FutureWarning: The `device` argument is deprecated and will be removed in v5 of Transformers.\n",
      "UserWarning: torch.utils.checkpoint: the use_reentrant parameter should be passed explicitly. In version 2.5 we will raise an exception if use_reentrant is not passed. use_reentrant=False is recommended, but if you need to preserve the current default behavior, you can pass use_reentrant=True. Refer to docs for more details on the differences between the two variants.\n",
      "UserWarning: None of the inputs have requires_grad=True. Gradients will be None\n",
      "FutureWarning: `torch.cuda.amp.autocast(args...)` is deprecated. Please use `torch.amp.autocast('cuda', args...)` instead.\n"
     ]
    },
    {
     "name": "stdout",
     "output_type": "stream",
     "text": [
      "1 total generic boxes\n",
      "air fryer: 1 detections\n",
      "Box coordinates: [0.8633433  0.51315904 0.89575934 0.7361739 ]\n",
      "1 total generic boxes\n",
      "microwave: 1 detections\n",
      "Box coordinates: [0.8633433  0.51315904 0.89575934 0.7361739 ]\n",
      "1 total generic boxes\n",
      "box: 1 detections\n",
      "Box coordinates: [0.8633433  0.51315904 0.89575934 0.7361739 ]\n",
      "1 total generic boxes\n",
      "blender: 1 detections\n",
      "Box coordinates: [0.8633433  0.51315904 0.89575934 0.7361739 ]\n",
      "1 total generic boxes\n",
      "motor: 1 detections\n",
      "Box coordinates: [0.8633433  0.51315904 0.89575934 0.7361739 ]\n"
     ]
    }
   ],
   "source": [
    "# Use open vocabulary prompts!\n",
    "detected_objects = [\"air fryer\", \"microwave\", \"box\", \"blender\", \"motor\"]\n",
    "\n",
    "for obj in detected_objects:\n",
    "    boxes, logits, phrases = predict(\n",
    "        model=model,\n",
    "        image=image_tensor[0],\n",
    "        caption=\"object\",      # very generic\n",
    "        box_threshold=0.05,\n",
    "        text_threshold=0.05,\n",
    "        device=device\n",
    "    )\n",
    "    print(f\"{len(boxes)} total generic boxes\")\n",
    "\n",
    "    print(f\"{obj}: {len(boxes)} detections\")\n",
    "    for box in boxes:\n",
    "        print(\"Box coordinates:\", box.cpu().numpy())\n"
   ]
  }
 ],
 "metadata": {
  "kernelspec": {
   "display_name": ".venv (3.9.6)",
   "language": "python",
   "name": "python3"
  },
  "language_info": {
   "codemirror_mode": {
    "name": "ipython",
    "version": 3
   },
   "file_extension": ".py",
   "mimetype": "text/x-python",
   "name": "python",
   "nbconvert_exporter": "python",
   "pygments_lexer": "ipython3",
   "version": "3.9.6"
  }
 },
 "nbformat": 4,
 "nbformat_minor": 5
}
